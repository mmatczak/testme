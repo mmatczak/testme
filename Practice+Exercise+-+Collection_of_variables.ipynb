{
  "cells": [
    {
      "cell_type": "markdown",
      "metadata": {
        "id": "view-in-github",
        "colab_type": "text"
      },
      "source": [
        "<a href=\"https://colab.research.google.com/github/mmatczak/testme/blob/main/Practice%2BExercise%2B-%2BCollection_of_variables.ipynb\" target=\"_parent\"><img src=\"https://colab.research.google.com/assets/colab-badge.svg\" alt=\"Open In Colab\"/></a>"
      ]
    },
    {
      "cell_type": "markdown",
      "metadata": {
        "id": "xW6vnWFG47EU"
      },
      "source": [
        "# **COLLECTION OF VARIABLES**"
      ]
    },
    {
      "cell_type": "markdown",
      "metadata": {
        "id": "cxWQt6Ni47EV"
      },
      "source": [
        "### 1. Create a list of repeated element (element 2, 48 times)"
      ]
    },
    {
      "cell_type": "code",
      "execution_count": null,
      "metadata": {
        "id": "QB1WkqE047EW"
      },
      "outputs": [],
      "source": [
        "[2]*48"
      ]
    },
    {
      "cell_type": "markdown",
      "metadata": {
        "id": "bzJXmqEZ47EW"
      },
      "source": [
        "### 2. Print the second element of the list\n",
        "\n",
        "list = [\"apple\",\"orange\",\"grapes\",\"watermelon\"]"
      ]
    },
    {
      "cell_type": "code",
      "execution_count": 4,
      "metadata": {
        "id": "GJuxqIZd47EW",
        "outputId": "15cf3a6e-53c3-4a18-93c5-f40e937aaa19",
        "colab": {
          "base_uri": "https://localhost:8080/"
        }
      },
      "outputs": [
        {
          "output_type": "stream",
          "name": "stdout",
          "text": [
            "orange\n"
          ]
        }
      ],
      "source": [
        "list = [\"apple\",\"orange\",\"grapes\",\"watermelon\"]\n",
        "print(list[1])"
      ]
    },
    {
      "cell_type": "markdown",
      "metadata": {
        "id": "lonT4InQ47EX"
      },
      "source": [
        "### 3.  Replace the second element of the list with \"strawberries\"\n",
        "list = [\"apple\",\"orange\",\"grapes\",\"watermelon\"]"
      ]
    },
    {
      "cell_type": "code",
      "execution_count": 6,
      "metadata": {
        "id": "ii_m38rz47EX",
        "outputId": "15d2fd02-66c2-48a0-edb8-7e5614abe298",
        "colab": {
          "base_uri": "https://localhost:8080/"
        }
      },
      "outputs": [
        {
          "output_type": "stream",
          "name": "stdout",
          "text": [
            "['apple', 'strawberries', 'grapes', 'watermelon']\n"
          ]
        }
      ],
      "source": [
        "list = [\"apple\",\"orange\",\"grapes\",\"watermelon\"]\n",
        "list[1] = \"strawberries\"\n",
        "print(list)"
      ]
    },
    {
      "cell_type": "markdown",
      "metadata": {
        "id": "kpEXdRam47EX"
      },
      "source": [
        "### 4. Iterate through the list and print the values"
      ]
    },
    {
      "cell_type": "code",
      "execution_count": 8,
      "metadata": {
        "id": "5v6gd-Rj47EX",
        "outputId": "39dc5bd9-fd42-4f4d-c3d8-f552d4fe8734",
        "colab": {
          "base_uri": "https://localhost:8080/"
        }
      },
      "outputs": [
        {
          "output_type": "stream",
          "name": "stdout",
          "text": [
            "apple\n",
            "strawberries\n",
            "grapes\n",
            "watermelon\n"
          ]
        }
      ],
      "source": [
        "for i in list:\n",
        "  print(i)"
      ]
    },
    {
      "cell_type": "markdown",
      "metadata": {
        "id": "VPuaSpGF47EX"
      },
      "source": [
        "### 5. Write a Python code to print squares of all numbers present in a list = [1, 12, 24, 36, 11, 20,50]"
      ]
    },
    {
      "cell_type": "code",
      "execution_count": 9,
      "metadata": {
        "id": "TDueOHmY47EX",
        "outputId": "c1fe3288-5b32-49de-95c8-1bdd6c044db7",
        "colab": {
          "base_uri": "https://localhost:8080/"
        }
      },
      "outputs": [
        {
          "output_type": "stream",
          "name": "stdout",
          "text": [
            "1\n",
            "144\n",
            "576\n",
            "1296\n",
            "121\n",
            "400\n",
            "2500\n"
          ]
        }
      ],
      "source": [
        "my_numbers = [1, 12, 24, 36, 11, 20,50]\n",
        "for num in my_numbers:\n",
        "  print(num**2)"
      ]
    },
    {
      "cell_type": "markdown",
      "metadata": {
        "id": "lyITp_-a47EY"
      },
      "source": [
        "### 6. Pop yellow color from the list below:\n",
        "List=['white','red', 'blue', 'green','blue','yellow', 'black']"
      ]
    },
    {
      "cell_type": "code",
      "execution_count": null,
      "metadata": {
        "id": "yejjIi_T47EY"
      },
      "outputs": [],
      "source": []
    },
    {
      "cell_type": "markdown",
      "metadata": {
        "id": "Q02sGaDu47EY"
      },
      "source": [
        "### 7. Check length of list\n",
        "\n",
        "list=[\"a\",\"b\",\"c\",\"d\",\"e\"]"
      ]
    },
    {
      "cell_type": "code",
      "execution_count": null,
      "metadata": {
        "id": "zdwHcwkj47EY"
      },
      "outputs": [],
      "source": []
    },
    {
      "cell_type": "markdown",
      "metadata": {
        "id": "qrUZooP047EY"
      },
      "source": [
        "###  8. Create a dictionary with the following information:\n",
        "\n",
        "brand = Audi\n",
        "\n",
        "Model = Q2\n",
        "\n",
        "Year = 1980"
      ]
    },
    {
      "cell_type": "code",
      "execution_count": null,
      "metadata": {
        "id": "GnsuhKY347EY"
      },
      "outputs": [],
      "source": []
    },
    {
      "cell_type": "markdown",
      "metadata": {
        "id": "fRYKkovM47EY"
      },
      "source": [
        "### 9. In the above dictionary change the year to 2019"
      ]
    },
    {
      "cell_type": "code",
      "execution_count": null,
      "metadata": {
        "id": "15nTVhay47EY"
      },
      "outputs": [],
      "source": []
    },
    {
      "cell_type": "markdown",
      "metadata": {
        "id": "qy6FPVE-47EY"
      },
      "source": [
        "### 10. Create a set of following elements\n",
        "\n",
        "1.0, \"Hello\", 55 , (6,7,8)"
      ]
    },
    {
      "cell_type": "code",
      "execution_count": null,
      "metadata": {
        "id": "I1dnP-3K47EZ"
      },
      "outputs": [],
      "source": []
    }
  ],
  "metadata": {
    "kernelspec": {
      "display_name": "Python 3 (ipykernel)",
      "language": "python",
      "name": "python3"
    },
    "language_info": {
      "codemirror_mode": {
        "name": "ipython",
        "version": 3
      },
      "file_extension": ".py",
      "mimetype": "text/x-python",
      "name": "python",
      "nbconvert_exporter": "python",
      "pygments_lexer": "ipython3",
      "version": "3.9.7"
    },
    "colab": {
      "provenance": [],
      "toc_visible": true,
      "include_colab_link": true
    }
  },
  "nbformat": 4,
  "nbformat_minor": 0
}